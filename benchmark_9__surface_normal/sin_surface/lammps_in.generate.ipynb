{
 "cells": [
  {
   "cell_type": "code",
   "execution_count": 5,
   "id": "868b15ad",
   "metadata": {},
   "outputs": [],
   "source": [
    "import shutil\n",
    "import os\n",
    "import numpy as np\n",
    "import matplotlib.pyplot as plt"
   ]
  },
  {
   "cell_type": "code",
   "execution_count": 6,
   "id": "f53a4e29",
   "metadata": {},
   "outputs": [
    {
     "data": {
      "text/plain": [
       "'/home/etpaler/test/RHEO_benchmarks/surf_normal/sin_surface'"
      ]
     },
     "execution_count": 6,
     "metadata": {},
     "output_type": "execute_result"
    }
   ],
   "source": [
    "pwd = os.getcwd()\n",
    "#pwd += \"/rheo_bench/channel/\"\n",
    "pwd"
   ]
  },
  {
   "cell_type": "code",
   "execution_count": 7,
   "id": "caf79c08",
   "metadata": {},
   "outputs": [],
   "source": [
    "#parameter grids\n",
    "var_sf_grid = {\"0.05\":\"20\",\"0.1\":\"10\",\"0.2\":\"5\",\"0.25\":\"4\",\"0.5\":\"2\"}\n",
    "#var_sf_grid = {\"0.1\":\"10\"}\n",
    "var_kernel_grid = {\"Quintic\":\"5\"}\n"
   ]
  },
  {
   "cell_type": "markdown",
   "id": "e3215d76",
   "metadata": {},
   "source": [
    "# Generate input data file"
   ]
  },
  {
   "cell_type": "markdown",
   "id": "8b0bb8a8",
   "metadata": {},
   "source": [
    "Generate atom positions for sinusoidal surface "
   ]
  },
  {
   "cell_type": "code",
   "execution_count": 8,
   "id": "fa060ebc",
   "metadata": {},
   "outputs": [],
   "source": [
    "# System size\n",
    "\n",
    "for sf in var_sf_grid:\n",
    "    sf = float(sf)\n",
    "    \n",
    "    ###Generate Atom Positions###\n",
    "    \n",
    "    L = 10.0 #System size\n",
    "    res = int(L/sf) #resolution\n",
    "\n",
    "    #System boundaries\n",
    "    y_max = np.max(L+np.sin(2*np.pi/L*np.linspace(0,L,res)))\n",
    "    y_min = np.min(np.sin(2*np.pi/L*np.linspace(0,L,res)))\n",
    "    x_min = 0.0\n",
    "    x_max = L\n",
    "\n",
    "    type_pos_all = [] #Array to hold the atom type and position (x,y,z)\n",
    "\n",
    "    #Top and bottom surfaces are sin curves\n",
    "    for x in np.linspace(0,L,res):\n",
    "        y_bot = np.sin(2*np.pi*x/L)\n",
    "        #type_pos_all.append([2, [x, y_bot,0.0]]) #Bottom surface atoms\n",
    "        #type_pos_all.append([2, [x, L + y_bot,0.0]]) #Top surface atoms\n",
    "        for y in np.linspace(y_bot,L+y_bot, res):\n",
    "            type_pos_all.append([1, [x,y,0.0]]) #Interior atoms\n",
    "\n",
    "    n_atoms = len(type_pos_all)\n",
    "    \n",
    "    ###Write Data File###\n",
    "    \n",
    "    with open(\"sin_surface_\" + str(sf) + \".data\",\"w\") as fdata:\n",
    "        fdata.write(\"Sinusoidal surface atom positions\\n\\n\")\n",
    "\n",
    "        #---Header---#\n",
    "        fdata.write(\"{} atoms\\n\".format(n_atoms)) #total atoms\n",
    "        fdata.write(\"{} atom types\\n\\n\".format(2)) #types of atoms\n",
    "\n",
    "        #Box dimensions\n",
    "        fdata.write(\"{} {} xlo xhi\\n\".format(x_min, x_max))\n",
    "        fdata.write(\"{} {} ylo yhi\\n\".format(y_min, y_max))\n",
    "        fdata.write(\"{} {} zlo zhi\\n\".format(-0.1*sf, 0.1*sf))\n",
    "        fdata.write(\"\\n\")\n",
    "\n",
    "        #---Atom Type Mass---#\n",
    "        fdata.write(\"Masses \\n\\n\")\n",
    "        fdata.write(\"{} {} \\n\".format(1, 0.25))\n",
    "        fdata.write(\"{} {} \\n\".format(2, 0.25))\n",
    "        fdata.write(\"\\n\")\n",
    "\n",
    "        #---Atoms---#\n",
    "        fdata.write(\"Atoms # rheo \\n\\n\")\n",
    "\n",
    "\n",
    "        for count, atom in enumerate(type_pos_all):\n",
    "            #fields_data_atom = (char *) \"id type rho temp phase x\"\n",
    "            fdata.write(\"{} {} {} {} {} {} {} {} {} {} {}\\n\".format(count+1, atom[0], 1.0, 1.0, 0, *atom[1], 0, 0, 0))\n",
    "        \n",
    "        fdata.write(\"\\n\")\n",
    "\n",
    "        #---Velocities---#\n",
    "        fdata.write(\"Velocities\\n\\n\")\n",
    "\n",
    "        for count, atom in enumerate(type_pos_all):\n",
    "            fdata.write(\"{} {} {} {}\\n\".format(count+1, 0.0, 0.0, 0.0))\n",
    "            \n",
    "        fdata.write(\"\\n\")\n"
   ]
  },
  {
   "cell_type": "markdown",
   "id": "f7d00083-9c74-4878-bacb-02da27f7cc8a",
   "metadata": {},
   "source": [
    "# Generate LAMMPS Input Scripts"
   ]
  },
  {
   "cell_type": "markdown",
   "id": "0e28bf8d",
   "metadata": {},
   "source": [
    "For sin surface:"
   ]
  },
  {
   "cell_type": "code",
   "execution_count": 9,
   "id": "ab842139",
   "metadata": {},
   "outputs": [],
   "source": [
    "#Generate lammps files\n",
    "filenames = []\n",
    "for sf in var_sf_grid:\n",
    "    for kernel in var_kernel_grid:\n",
    "        run_code = \"1_\"+var_kernel_grid[kernel]+\"_\"+var_sf_grid[sf]\n",
    "        filename = \"in.\"+run_code+\".lmp\"\n",
    "        file = shutil.copyfile(\"lammps_in_sin.template\",pwd+\"/\"+filename)\n",
    "        file_in = open(file,\"rt\")\n",
    "        file_text = file_in.read()\n",
    "\n",
    "        #Replace variables\n",
    "        file_text = file_text.replace(\"var_sf\",sf)\n",
    "        file_text = file_text.replace(\"var_kernel\",kernel)\n",
    "        file_text = file_text.replace(\"var_data\",\"sin_surface_\"+sf+\".data\")\n",
    "        file_text = file_text.replace(\"var_filename\",run_code)\n",
    "\n",
    "        file_out = open(file,\"wt\")\n",
    "        file_out.write(file_text)\n",
    "        file_out.close()\n",
    "        \n",
    "        filenames.append(filename)"
   ]
  },
  {
   "cell_type": "code",
   "execution_count": 10,
   "id": "410b1f96-472b-434f-8c80-7f893886c5e1",
   "metadata": {},
   "outputs": [
    {
     "data": {
      "text/plain": [
       "['in.1_5_20.lmp',\n",
       " 'in.1_5_10.lmp',\n",
       " 'in.1_5_5.lmp',\n",
       " 'in.1_5_4.lmp',\n",
       " 'in.1_5_2.lmp']"
      ]
     },
     "execution_count": 10,
     "metadata": {},
     "output_type": "execute_result"
    }
   ],
   "source": [
    "filenames"
   ]
  },
  {
   "cell_type": "markdown",
   "id": "15df3ebb-98ef-4755-9c94-65ceb06bd277",
   "metadata": {},
   "source": [
    "# Write the Jobscript"
   ]
  },
  {
   "cell_type": "markdown",
   "id": "c4085fa3",
   "metadata": {},
   "source": [
    "### Solo"
   ]
  },
  {
   "cell_type": "code",
   "execution_count": 10,
   "id": "a90579a8-b9a5-4cda-b253-9e6dfc0a4639",
   "metadata": {},
   "outputs": [],
   "source": [
    "account=\"FY150028\"\n",
    "job_name=\"TestChannel\"\n",
    "time=\"24:0:0\"\n",
    "partition=\"batch\"\n",
    "nodes=\"1\"\n",
    "ntasks_per_node=\"16\"\n",
    "run_command = \"mpirun -np 16 /ascldap/users/etpaler/dev/lammps_rheo/lammps/build/lmp -in \""
   ]
  },
  {
   "cell_type": "code",
   "execution_count": 11,
   "id": "aa0d1579-6edf-4358-894c-44fef3ce9de4",
   "metadata": {},
   "outputs": [],
   "source": [
    "with open(\"jobscript\",\"w\") as jobscript:\n",
    "        #---shebang---#\n",
    "        jobscript.write(\"#!/bin/bash\\n\\n\")\n",
    "\n",
    "        #---slurm commands---#\n",
    "        jobscript.write(\"#SBATCH --account={}\\n\".format(account))\n",
    "        jobscript.write(\"#SBATCH --job-name={}\\n\".format(job_name))\n",
    "        jobscript.write(\"#SBATCH --time={}\\n\".format(time))\n",
    "        jobscript.write(\"#SBATCH --partition={}\\n\".format(partition))\n",
    "        jobscript.write(\"#SBATCH --nodes={}\\n\".format(nodes))\n",
    "        jobscript.write(\"#SBATCH --ntasks-per-node={}\\n\\n\".format(ntasks_per_node))\n",
    "        \n",
    "        jobscript.write(\"module load cmake/3.20.3 intel/18.0.0.128 openmpi-intel/4.1 mkl/18.0.0.128\\n\\n\")\n",
    "        \n",
    "        for filename in filenames:\n",
    "            jobscript.write(run_command+filename+\"\\n\")\n",
    "            \n",
    "        jobscript.write(\"\\n\")"
   ]
  },
  {
   "cell_type": "markdown",
   "id": "cd9483f2",
   "metadata": {},
   "source": [
    "### WSL"
   ]
  },
  {
   "cell_type": "code",
   "execution_count": 16,
   "id": "00a8959b-96eb-4c41-a860-52d44b071495",
   "metadata": {},
   "outputs": [],
   "source": [
    "run_command = \"mpirun -np 2 ~/dev/rlammps_extrusion/build/lmp -in \"\n",
    "\n",
    "with open(\"jobscript\",\"w\") as jobscript:\n",
    "        jobscript.write(\"#!/bin/bash\\n\\n\")\n",
    "\n",
    "        for filename in filenames:\n",
    "            jobscript.write(run_command+filename+\"\\n\")\n",
    "            \n",
    "        jobscript.write(\"\\n\")"
   ]
  },
  {
   "cell_type": "code",
   "execution_count": null,
   "id": "1a8c6dce",
   "metadata": {},
   "outputs": [],
   "source": []
  }
 ],
 "metadata": {
  "kernelspec": {
   "display_name": "Python 3.9.7 ('base')",
   "language": "python",
   "name": "python3"
  },
  "language_info": {
   "codemirror_mode": {
    "name": "ipython",
    "version": 3
   },
   "file_extension": ".py",
   "mimetype": "text/x-python",
   "name": "python",
   "nbconvert_exporter": "python",
   "pygments_lexer": "ipython3",
   "version": "3.9.7"
  },
  "vscode": {
   "interpreter": {
    "hash": "8d6eab00dc7ce96ae89711357d2e2e3d1fbdc2cefdd2da93f2b7a6dbe9768048"
   }
  }
 },
 "nbformat": 4,
 "nbformat_minor": 5
}
