{
 "cells": [
  {
   "cell_type": "code",
   "execution_count": 1,
   "metadata": {},
   "outputs": [],
   "source": [
    "import re\n",
    "import os\n",
    "import shutil\n",
    "import matplotlib.pyplot as plt\n",
    "import numpy as np"
   ]
  },
  {
   "cell_type": "markdown",
   "metadata": {},
   "source": [
    "# Functions"
   ]
  },
  {
   "cell_type": "code",
   "execution_count": 2,
   "metadata": {},
   "outputs": [],
   "source": [
    "sf_array = [0.05,0.1,0.2,0.25,0.5]\n",
    "D = 2.5\n",
    "lx=[-D,D]\n",
    "ly=[-D,D]\n",
    "\n",
    "atom_type=1\n",
    "rho0 = 1\n",
    "T0 = 1\n",
    "phase = 1"
   ]
  },
  {
   "cell_type": "code",
   "execution_count": 3,
   "metadata": {},
   "outputs": [],
   "source": [
    "for sf in sf_array:\n",
    "    data_x = np.asarray([])\n",
    "    data_y = np.asarray([])\n",
    "    data = [data_x,data_y]\n",
    "    atom_types = np.asarray([])\n",
    "    n_atoms = 0\n",
    "\n",
    "    mp = rho0*sf**2\n",
    "    radii = np.flip(np.arange(0,D/2,sf))\n",
    "    dz = 0.1*sf\n",
    "    first=True\n",
    "    for radius_count, radius in enumerate(radii):\n",
    "        if first:\n",
    "            atom_type=2\n",
    "            first=False\n",
    "        else:\n",
    "            atom_type=1\n",
    "        n_atoms_ring = np.rint(2*radius*np.pi/sf)\n",
    "        theta = np.linspace(0,2*np.pi,int(n_atoms_ring))\n",
    "        x = (radius * np.cos(theta))\n",
    "        y = (radius * np.sin(theta))\n",
    "        data[0]=np.concatenate([data[0],x])\n",
    "        data[1]=np.concatenate([data[1],y])\n",
    "        types = np.zeros((theta.shape))\n",
    "        types[:] = int(atom_type)\n",
    "        atom_types=np.concatenate([atom_types,types])\n",
    "        n_atoms+=len(theta)\n",
    "\n",
    "        #Write the datapoints into a datafile\n",
    "    with open(\"circle_surface_\"+str(sf)+\".data\",\"w\") as fdata:\n",
    "        fdata.write(\"surface normal benchmark atom data\\n\\n\")\n",
    "        \n",
    "        #These are already included in the lammps-generated data file\n",
    "        # #---Header---#\n",
    "        fdata.write(\"{} atoms\\n\".format(n_atoms)) #total atoms\n",
    "        fdata.write(\"{} atom types\\n\\n\".format(2)) #types of atoms\n",
    "        \n",
    "        # #Box dimensions\n",
    "        fdata.write(\"{} {} xlo xhi\\n\".format(lx[0]-1, lx[1]+1))\n",
    "        fdata.write(\"{} {} ylo yhi\\n\".format(ly[0]-1, ly[1]+1))\n",
    "        fdata.write(\"{} {} zlo zhi\\n\".format(-dz, dz))\n",
    "        fdata.write(\"\\n\")\n",
    "        \n",
    "        # #---Atom Type Mass---#\n",
    "        fdata.write(\"Masses \\n\\n\")\n",
    "        fdata.write(\"{} {} \\n\".format(1, mp))\n",
    "        fdata.write(\"{} {} \\n\".format(2, mp))\n",
    "        fdata.write(\"\\n\")\n",
    "\n",
    "        #---Atoms---#\n",
    "        fdata.write(\"Atoms # rheo \\n\\n\")\n",
    "        \n",
    "        \n",
    "        for n in range(n_atoms):\n",
    "            #fields_data_atom = (char *) \"id type rho temp phase x\"\n",
    "            fdata.write(\"{} {:.0f} {} {} {} {} {} {} {} {} {}\\n\".format(n+1,atom_types[n],rho0,T0,phase,data[0][n],data[1][n],0, 0, 0, 0))\n",
    "        \n",
    "        #---Velocities---#\n",
    "        fdata.write(\"Velocities \\n\\n\")\n",
    "        for n in range(n_atoms):\n",
    "            fdata.write(\"{} {} {} {}\\n\".format(n+1, 0.0, 0.0, 0.0))\n",
    "\n",
    "    "
   ]
  },
  {
   "cell_type": "code",
   "execution_count": 4,
   "metadata": {},
   "outputs": [
    {
     "data": {
      "text/plain": [
       "<matplotlib.collections.PathCollection at 0x7fba2671d850>"
      ]
     },
     "execution_count": 4,
     "metadata": {},
     "output_type": "execute_result"
    },
    {
     "data": {
      "image/png": "[encoded data removed]",
      "text/plain": [
       "<Figure size 720x720 with 1 Axes>"
      ]
     },
     "metadata": {
      "needs_background": "light"
     },
     "output_type": "display_data"
    }
   ],
   "source": [
    "fig = plt.figure(figsize=(10,10))\n",
    "\n",
    "ax = fig.add_subplot()\n",
    "ax.scatter(data[0],data[1],s=10)"
   ]
  },
  {
   "cell_type": "code",
   "execution_count": null,
   "metadata": {},
   "outputs": [],
   "source": []
  }
 ],
 "metadata": {
  "interpreter": {
   "hash": "f9cbe0c7d9ca8420c20fd6b3482fb39f81f75adf45737e6939e75c3f6a9bae17"
  },
  "kernelspec": {
   "display_name": "Python 3 (ipykernel)",
   "language": "python",
   "name": "python3"
  },
  "language_info": {
   "codemirror_mode": {
    "name": "ipython",
    "version": 3
   },
   "file_extension": ".py",
   "mimetype": "text/x-python",
   "name": "python",
   "nbconvert_exporter": "python",
   "pygments_lexer": "ipython3",
   "version": "3.9.7"
  }
 },
 "nbformat": 4,
 "nbformat_minor": 2
}
