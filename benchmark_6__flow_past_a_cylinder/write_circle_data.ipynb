{
 "cells": [
  {
   "cell_type": "code",
   "execution_count": 2,
   "metadata": {},
   "outputs": [],
   "source": [
    "import re\n",
    "import os\n",
    "import shutil\n",
    "import matplotlib.pyplot as plt\n",
    "import numpy as np"
   ]
  },
  {
   "cell_type": "markdown",
   "metadata": {},
   "source": [
    "# Instructions\n",
    "- Set appropriate obstacle params\n",
    "- Run the cells to generate a data file\n",
    "- Manually copy and paste the data lines into the original initial data created by LAMMPS"
   ]
  },
  {
   "cell_type": "code",
   "execution_count": 3,
   "metadata": {},
   "outputs": [
    {
     "name": "stdout",
     "output_type": "stream",
     "text": [
      "Minimum thickness: 0.30000000000000004\n"
     ]
    }
   ],
   "source": [
    "#Obstacle parameters\n",
    "sf = 0.1 #spacing\n",
    "D = 8 #diameter\n",
    "center = [144/2,0] #circle center coordinates\n",
    "thickness = sf*3 #this needs to be set greater than min_thickness\n",
    "print(\"Minimum thickness: \" + str(thickness))\n",
    "\n",
    "\n",
    "#Initial parameters\n",
    "n_start = 686181 #atoms in the original (fluid only) data file\n",
    "type = 2 #type designation for the obstacle particles\n",
    "rho0 = 1.0\n",
    "T0 = 1.0\n",
    "phase = 5\n"
   ]
  },
  {
   "cell_type": "code",
   "execution_count": 4,
   "metadata": {},
   "outputs": [
    {
     "name": "stdout",
     "output_type": "stream",
     "text": [
      "[3.7 3.8 3.9 4. ]\n"
     ]
    },
    {
     "data": {
      "text/plain": [
       "<matplotlib.collections.PathCollection at 0x7fffb3977a60>"
      ]
     },
     "execution_count": 4,
     "metadata": {},
     "output_type": "execute_result"
    },
    {
     "data": {
      "image/png": "[encoded data removed]",
      "text/plain": [
       "<Figure size 432x288 with 1 Axes>"
      ]
     },
     "metadata": {
      "needs_background": "light"
     },
     "output_type": "display_data"
    }
   ],
   "source": [
    "data_x = np.asarray([])\n",
    "data_y = np.asarray([])\n",
    "radii = np.arange((D/2)-thickness,(D/2)+sf,sf)\n",
    "print(radii)\n",
    "n_atoms = 0\n",
    "for count, radius in enumerate(radii):\n",
    "    n_atoms_ring = np.rint(2*radius*np.pi/sf)\n",
    "    theta = np.linspace(0,2*np.pi,int(n_atoms_ring))\n",
    "    x = (radius * np.cos(theta))+center[0]\n",
    "    y = (radius * np.sin(theta))+center[1]\n",
    "    data_x=np.concatenate([data_x,x])\n",
    "    data_y=np.concatenate([data_y,y])\n",
    "    # data_x.append(x)\n",
    "    # data_y.append(y)\n",
    "    n_atoms+=len(theta)\n",
    "\n",
    "plt.scatter(data_x,data_y,s=0.1)"
   ]
  },
  {
   "cell_type": "code",
   "execution_count": 8,
   "metadata": {},
   "outputs": [],
   "source": [
    "#Write the datapoints into a datafile\n",
    "with open(\"obstacle_data_10.data\",\"w\") as fdata:\n",
    "    fdata.write(\"obstacle atom data\\n\\n\")\n",
    "    \n",
    "    #These are already included in the lammps-generated data file\n",
    "    # #---Header---#\n",
    "    # fdata.write(\"{} atoms\\n\".format(n_atoms)) #total atoms\n",
    "    # fdata.write(\"{} atom types\\n\\n\".format(2)) #types of atoms\n",
    "    \n",
    "    # #Box dimensions\n",
    "    # fdata.write(\"{} {} xlo xhi\\n\".format(x_min, x_max))\n",
    "    # fdata.write(\"{} {} ylo yhi\\n\".format(y_min, y_max))\n",
    "    # fdata.write(\"{} {} zlo zhi\\n\".format(-0.1*sf, 0.1*sf))\n",
    "    # fdata.write(\"\\n\")\n",
    "    \n",
    "    # #---Atom Type Mass---#\n",
    "    # fdata.write(\"Masses \\n\\n\")\n",
    "    # fdata.write(\"{} {} \\n\".format(1, 0.25))\n",
    "    # fdata.write(\"{} {} \\n\".format(2, 0.25))\n",
    "    # fdata.write(\"\\n\")\n",
    "\n",
    "    #---Atoms---#\n",
    "    fdata.write(\"Atoms # rheo \\n\\n\")\n",
    "    \n",
    "    \n",
    "    for n in range(n_atoms):\n",
    "        #fields_data_atom = (char *) \"id type rho temp phase x\"\n",
    "        fdata.write(\"{} {} {} {} {} {} {} {} {} {} {}\\n\".format(n_start+n+1,type,rho0,T0,phase,data_x[n],data_y[n],0.0, 0, 0, 0))\n",
    "    \n",
    "    #---Velocities---#\n",
    "    fdata.write(\"Velocities \\n\\n\")\n",
    "    for n in range(n_atoms):\n",
    "        fdata.write(\"{} {} {} {}\\n\".format(n_start+n+1, 0.0, 0.0, 0.0))\n",
    "\n",
    "    "
   ]
  }
 ],
 "metadata": {
  "kernelspec": {
   "display_name": "Python 3.9.7 ('base')",
   "language": "python",
   "name": "python3"
  },
  "language_info": {
   "codemirror_mode": {
    "name": "ipython",
    "version": 3
   },
   "file_extension": ".py",
   "mimetype": "text/x-python",
   "name": "python",
   "nbconvert_exporter": "python",
   "pygments_lexer": "ipython3",
   "version": "3.9.7"
  },
  "orig_nbformat": 4,
  "vscode": {
   "interpreter": {
    "hash": "8d6eab00dc7ce96ae89711357d2e2e3d1fbdc2cefdd2da93f2b7a6dbe9768048"
   }
  }
 },
 "nbformat": 4,
 "nbformat_minor": 2
}
