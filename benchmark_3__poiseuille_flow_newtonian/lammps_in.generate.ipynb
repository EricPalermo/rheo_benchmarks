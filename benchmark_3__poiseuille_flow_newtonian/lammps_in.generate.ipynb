{
 "cells": [
  {
   "cell_type": "code",
   "execution_count": 1,
   "id": "868b15ad",
   "metadata": {},
   "outputs": [],
   "source": [
    "import shutil\n",
    "import os"
   ]
  },
  {
   "cell_type": "code",
   "execution_count": 2,
   "id": "f53a4e29",
   "metadata": {},
   "outputs": [
    {
     "data": {
      "text/plain": [
       "'/qscratch/etpaler/rheo_benchmark_repository/benchmark_3__poiseuille_flow_newtonian'"
      ]
     },
     "execution_count": 2,
     "metadata": {},
     "output_type": "execute_result"
    }
   ],
   "source": [
    "pwd = os.getcwd()\n",
    "#pwd += \"/rheo_bench/channel/\"\n",
    "pwd"
   ]
  },
  {
   "cell_type": "markdown",
   "id": "f7d00083-9c74-4878-bacb-02da27f7cc8a",
   "metadata": {},
   "source": [
    "# Generate LAMMPS Input Scripts"
   ]
  },
  {
   "cell_type": "code",
   "execution_count": 3,
   "id": "f4fae2f7",
   "metadata": {},
   "outputs": [],
   "source": [
    "#parameter grids\n",
    "# var_model_grid = {\"fix                2 all rheo/viscosity constant ${eta}\":\"0\",\n",
    "#                   \"fix                2 all rheo/viscosity power ${eta} ${gd0} ${K} ${npow}\":\"1\"}\n",
    "var_model_grid = {\"fix                2 all rheo/viscosity constant ${eta}\":\"0\"}\n",
    "var_kernel_grid = {\"CRK0\":\"0\",\"CRK1\":\"1\",\"CRK2\":\"2\",\"Quintic\":\"5\"}\n",
    "var_sf_grid = {\"0.5\":\"2\",\"0.25\":\"4\",\"0.2\":\"5\",\"0.1\":\"10\",\"0.05\":\"20\"}\n",
    "var_hd_grid = {\"3.0\":\"3p0\"}\n",
    "var_eta_grid = {\"0.16\":\"p16\"}\n",
    "var_fext_grid = {\"1e-4\":\"1e-4\"}\n"
   ]
  },
  {
   "cell_type": "code",
   "execution_count": 4,
   "id": "16e15db1",
   "metadata": {},
   "outputs": [],
   "source": [
    "#Generate lammps files\n",
    "\n",
    "out_filepath = \"data\" #don't use trailing slash\n",
    "\n",
    "filenames = []\n",
    "for model in var_model_grid:\n",
    "    for kernel in var_kernel_grid:\n",
    "        for sf in var_sf_grid:\n",
    "            for eta in var_eta_grid:\n",
    "                for fext in var_fext_grid:\n",
    "        \n",
    "                    filename = var_model_grid[model]+\"_\"+var_kernel_grid[kernel]+\"_\"+var_sf_grid[sf]+\"_\"+var_eta_grid[eta]+\"_\"+var_fext_grid[fext]\n",
    "                    file = shutil.copyfile(\"in.template.lmp\",\"in.\"+filename+\".lmp\")\n",
    "                    file_in = open(file,\"rt\")\n",
    "                    file_text = file_in.read()\n",
    "\n",
    "                    #Replace variables\n",
    "                    file_text = file_text.replace(\"var_sf\",sf)\n",
    "                    file_text = file_text.replace(\"var_fext\",fext)\n",
    "                    file_text = file_text.replace(\"var_eta\",eta)\n",
    "                    file_text = file_text.replace(\"var_kernel\",kernel)\n",
    "                    file_text = file_text.replace(\"var_model\",model)\n",
    "\n",
    "                    file_text = file_text.replace(\"var_out_filepath\",out_filepath)\n",
    "                    file_text = file_text.replace(\"var_filename\",filename)\n",
    "\n",
    "                    file_out = open(file,\"wt\")\n",
    "                    file_out.write(file_text)\n",
    "                    \n",
    "                    filenames.append(filename)\n",
    "                    file_out.close()"
   ]
  },
  {
   "cell_type": "code",
   "execution_count": 5,
   "id": "410b1f96-472b-434f-8c80-7f893886c5e1",
   "metadata": {},
   "outputs": [
    {
     "data": {
      "text/plain": [
       "['0_0_2_p16_1e-4',\n",
       " '0_0_4_p16_1e-4',\n",
       " '0_0_5_p16_1e-4',\n",
       " '0_0_10_p16_1e-4',\n",
       " '0_0_20_p16_1e-4',\n",
       " '0_1_2_p16_1e-4',\n",
       " '0_1_4_p16_1e-4',\n",
       " '0_1_5_p16_1e-4',\n",
       " '0_1_10_p16_1e-4',\n",
       " '0_1_20_p16_1e-4',\n",
       " '0_2_2_p16_1e-4',\n",
       " '0_2_4_p16_1e-4',\n",
       " '0_2_5_p16_1e-4',\n",
       " '0_2_10_p16_1e-4',\n",
       " '0_2_20_p16_1e-4',\n",
       " '0_5_2_p16_1e-4',\n",
       " '0_5_4_p16_1e-4',\n",
       " '0_5_5_p16_1e-4',\n",
       " '0_5_10_p16_1e-4',\n",
       " '0_5_20_p16_1e-4']"
      ]
     },
     "execution_count": 5,
     "metadata": {},
     "output_type": "execute_result"
    }
   ],
   "source": [
    "filenames"
   ]
  },
  {
   "cell_type": "markdown",
   "id": "15df3ebb-98ef-4755-9c94-65ceb06bd277",
   "metadata": {},
   "source": [
    "# Write the Solo Jobscript"
   ]
  },
  {
   "cell_type": "code",
   "execution_count": 6,
   "id": "a90579a8-b9a5-4cda-b253-9e6dfc0a4639",
   "metadata": {},
   "outputs": [],
   "source": [
    "account=\"FY150028\"\n",
    "job_name=\"Newt_channel\"\n",
    "time=\"48:0:0\"\n",
    "partition=\"batch\"\n",
    "nodes=\"4\"\n",
    "ntasks_per_node=\"16\"\n",
    "run_command = \"mpirun -np 16 /ascldap/users/etpaler/dev/rlammps_extrusion_general_cs2/build/lmp -in \""
   ]
  },
  {
   "cell_type": "code",
   "execution_count": 7,
   "id": "aa0d1579-6edf-4358-894c-44fef3ce9de4",
   "metadata": {},
   "outputs": [],
   "source": [
    "with open(\"jobscript\",\"w\") as jobscript:\n",
    "        #---shebang---#\n",
    "        jobscript.write(\"#!/bin/bash\\n\\n\")\n",
    "\n",
    "        #---slurm commands---#\n",
    "        jobscript.write(\"#SBATCH --account={}\\n\".format(account))\n",
    "        jobscript.write(\"#SBATCH --job-name={}\\n\".format(job_name))\n",
    "        jobscript.write(\"#SBATCH --time={}\\n\".format(time))\n",
    "        jobscript.write(\"#SBATCH --partition={}\\n\".format(partition))\n",
    "        jobscript.write(\"#SBATCH --nodes={}\\n\".format(nodes))\n",
    "        jobscript.write(\"#SBATCH --ntasks-per-node={}\\n\\n\".format(ntasks_per_node))\n",
    "        \n",
    "         #---unix commands---#\n",
    "        jobscript.write(\"module load cmake/3.20.3 intel/18.0.0.128 openmpi-intel/4.1 mkl/18.0.0.128\\n\\n\")\n",
    "        \n",
    "        for filename in filenames:\n",
    "            jobscript.write(run_command+\"in.\"+filename+\".lmp\\n\")\n",
    "            \n",
    "        jobscript.write(\"\\n\")"
   ]
  },
  {
   "cell_type": "markdown",
   "id": "3b36c221-24eb-405e-a2c1-d69a8d13afb8",
   "metadata": {},
   "source": [
    "# Write the WSL Jobscript"
   ]
  },
  {
   "cell_type": "code",
   "execution_count": 24,
   "id": "fb905275",
   "metadata": {},
   "outputs": [],
   "source": [
    "run_command = \"mpirun -np 4 ~/dev/rlammps_wall_debug/build/lmp -in \"\n",
    "\n",
    "with open(\"jobscript\",\"w\") as jobscript:\n",
    "        #---shebang---#\n",
    "        jobscript.write(\"#!/bin/bash\\n\\n\")\n",
    "\n",
    "        for filename in filenames:\n",
    "            jobscript.write(run_command+filename+\"\\n\")\n",
    "            \n",
    "        jobscript.write(\"\\n\")"
   ]
  }
 ],
 "metadata": {
  "kernelspec": {
   "display_name": "Python 3.9.7 ('base')",
   "language": "python",
   "name": "python3"
  },
  "language_info": {
   "codemirror_mode": {
    "name": "ipython",
    "version": 3
   },
   "file_extension": ".py",
   "mimetype": "text/x-python",
   "name": "python",
   "nbconvert_exporter": "python",
   "pygments_lexer": "ipython3",
   "version": "3.9.7"
  },
  "vscode": {
   "interpreter": {
    "hash": "8d6eab00dc7ce96ae89711357d2e2e3d1fbdc2cefdd2da93f2b7a6dbe9768048"
   }
  }
 },
 "nbformat": 4,
 "nbformat_minor": 5
}
