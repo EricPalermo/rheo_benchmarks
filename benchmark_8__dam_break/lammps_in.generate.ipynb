{
 "cells": [
  {
   "cell_type": "code",
   "execution_count": 10,
   "id": "868b15ad",
   "metadata": {},
   "outputs": [],
   "source": [
    "import shutil\n",
    "import os"
   ]
  },
  {
   "cell_type": "code",
   "execution_count": 11,
   "id": "f53a4e29",
   "metadata": {},
   "outputs": [
    {
     "data": {
      "text/plain": [
       "'/home/epalermo/test/rheo_bench/dam_break'"
      ]
     },
     "execution_count": 11,
     "metadata": {},
     "output_type": "execute_result"
    }
   ],
   "source": [
    "pwd = os.getcwd()\n",
    "#pwd += \"/rheo_bench/channel/\"\n",
    "pwd"
   ]
  },
  {
   "cell_type": "markdown",
   "id": "f7d00083-9c74-4878-bacb-02da27f7cc8a",
   "metadata": {},
   "source": [
    "# Generate LAMMPS Input Scripts"
   ]
  },
  {
   "cell_type": "code",
   "execution_count": 17,
   "id": "f4fae2f7",
   "metadata": {},
   "outputs": [],
   "source": [
    "#constants\n",
    "hd = \"3.5\"\n",
    "eta = \"0.1\"\n",
    "Dr = \"0.1\"\n",
    "fext = \"1e-5\"\n",
    "cutoff = \"25\"\n",
    "shifting = \"shift\"\n",
    "surface = \"fix                3 all rheo/surface ${h3} 1.5 \"+cutoff\n",
    "sf = \"0.1\"\n",
    "\n",
    "\n",
    "#parameter grids\n",
    "var_surface_grid = {\"fix                2 all rheo/surface ${h3} 1.5 \"+cutoff : \"surface_on\",\n",
    "                    \"\":\"surface_off\"}\n",
    "var_sf_grid = {\"0.05\":\"20\",\"0.1\":\"10\",\"0.2\":\"5\",\"0.25\":\"4\",\"0.5\":\"2\"}\n",
    "var_kernel_grid = {\"CRK0\":\"0\",\"CRK1\":\"1\",\"CRK2\":\"2\",\"Quintic\":\"5\"}\n",
    "var_shifting_grid = {\"shift\":\"shift_on\",\"\":\"shift_off\"}\n",
    "var_eta_grid = {\"0.1\":\"0p1\"}\n",
    "\n"
   ]
  },
  {
   "cell_type": "code",
   "execution_count": 20,
   "id": "16e15db1",
   "metadata": {},
   "outputs": [
    {
     "name": "stdout",
     "output_type": "stream",
     "text": [
      "['lammps_in__0_10_0p1_1e-5', 'lammps_in__1_10_0p1_1e-5', 'lammps_in__2_10_0p1_1e-5', 'lammps_in__5_10_0p1_1e-5']\n"
     ]
    }
   ],
   "source": [
    "#Generate lammps files\n",
    "\n",
    "out_filepath = \"static\"\n",
    "\n",
    "filenames = []\n",
    "#for surface in var_surface_grid:\n",
    "#    for shifting in var_shifting_grid:\n",
    "#        for sf in var_sf_grid:\n",
    "for kernel in var_kernel_grid:\n",
    "    run_code = var_kernel_grid[kernel]+\"_\"+var_sf_grid[sf]+\"_\"+var_eta_grid[eta]+\"_\"+fext\n",
    "    filename = \"lammps_in__\"+run_code\n",
    "    file = shutil.copyfile(\"lammps_in.template\",pwd+\"/\"+filename)\n",
    "    file_in = open(file,\"rt\")\n",
    "    file_text = file_in.read()\n",
    "\n",
    "    #Replace variables\n",
    "    file_text = file_text.replace(\"var_sf\",sf)\n",
    "    file_text = file_text.replace(\"var_hd\",hd)\n",
    "    file_text = file_text.replace(\"var_Dr\",Dr)\n",
    "    file_text = file_text.replace(\"var_fext\",fext)\n",
    "    file_text = file_text.replace(\"var_eta\",eta)\n",
    "    file_text = file_text.replace(\"var_kernel\",kernel)\n",
    "    file_text = file_text.replace(\"var_cutoff\",cutoff)\n",
    "    file_text = file_text.replace(\"var_shift\",shifting)\n",
    "    file_text = file_text.replace(\"var_surface\",surface)\n",
    "    file_text = file_text.replace(\"var_ncdf_path\",out_filepath+\"/ncdf/\"+run_code)\n",
    "    file_text = file_text.replace(\"var_dump_path\",out_filepath+\"/dump/\"+run_code)\n",
    "\n",
    "    file_out = open(file,\"wt\")\n",
    "    file_out.write(file_text)\n",
    "    \n",
    "    filenames.append(filename)\n",
    "\n",
    "print(filenames)"
   ]
  },
  {
   "cell_type": "markdown",
   "id": "15df3ebb-98ef-4755-9c94-65ceb06bd277",
   "metadata": {},
   "source": [
    "# Write the Solo Jobscript"
   ]
  },
  {
   "cell_type": "code",
   "execution_count": null,
   "id": "a90579a8-b9a5-4cda-b253-9e6dfc0a4639",
   "metadata": {},
   "outputs": [],
   "source": [
    "account=\"FY150028\"\n",
    "job_name=\"TestChannel\"\n",
    "time=\"24:0:0\"\n",
    "partition=\"batch\"\n",
    "nodes=\"1\"\n",
    "ntasks_per_node=\"16\"\n",
    "run_command = \"mpirun -np 16 /ascldap/users/etpaler/dev/lammps_rheo/lammps/build/lmp -in \""
   ]
  },
  {
   "cell_type": "code",
   "execution_count": null,
   "id": "aa0d1579-6edf-4358-894c-44fef3ce9de4",
   "metadata": {},
   "outputs": [],
   "source": [
    "with open(\"jobscript\",\"w\") as jobscript:\n",
    "        #---shebang---#\n",
    "        jobscript.write(\"#!/bin/bash\\n\\n\")\n",
    "\n",
    "        #---slurm commands---#\n",
    "        jobscript.write(\"#SBATCH --account={}\\n\".format(account))\n",
    "        jobscript.write(\"#SBATCH --job-name={}\\n\".format(job_name))\n",
    "        jobscript.write(\"#SBATCH --time={}\\n\".format(time))\n",
    "        jobscript.write(\"#SBATCH --partition={}\\n\".format(partition))\n",
    "        jobscript.write(\"#SBATCH --nodes={}\\n\".format(nodes))\n",
    "        jobscript.write(\"#SBATCH --ntasks-per-node={}\\n\\n\".format(ntasks_per_node))\n",
    "        \n",
    "         #---unix commands---#\n",
    "        jobscript.write(\"module load cmake/3.20.3 intel/18.0.0.128 openmpi-intel/4.1 mkl/18.0.0.128\\n\\n\")\n",
    "        \n",
    "        for filename in filenames:\n",
    "            jobscript.write(run_command+filename+\"\\n\")\n",
    "            \n",
    "        jobscript.write(\"\\n\")"
   ]
  },
  {
   "cell_type": "markdown",
   "id": "3b36c221-24eb-405e-a2c1-d69a8d13afb8",
   "metadata": {},
   "source": [
    "# Write the WSL Jobscript"
   ]
  },
  {
   "cell_type": "code",
   "execution_count": 9,
   "id": "fb905275",
   "metadata": {},
   "outputs": [],
   "source": [
    "run_command = \"mpirun -np 4 ~/dev/rlammps_wall_debug/build/lmp -in \"\n",
    "\n",
    "with open(\"jobscript\",\"w\") as jobscript:\n",
    "        #---shebang---#\n",
    "        jobscript.write(\"#!/bin/bash\\n\\n\")\n",
    "\n",
    "        for filename in filenames:\n",
    "            jobscript.write(run_command+filename+\"\\n\")\n",
    "            \n",
    "        jobscript.write(\"\\n\")"
   ]
  }
 ],
 "metadata": {
  "kernelspec": {
   "display_name": "Python 3 (ipykernel)",
   "language": "python",
   "name": "python3"
  },
  "language_info": {
   "codemirror_mode": {
    "name": "ipython",
    "version": 3
   },
   "file_extension": ".py",
   "mimetype": "text/x-python",
   "name": "python",
   "nbconvert_exporter": "python",
   "pygments_lexer": "ipython3",
   "version": "3.9.7"
  }
 },
 "nbformat": 4,
 "nbformat_minor": 5
}
