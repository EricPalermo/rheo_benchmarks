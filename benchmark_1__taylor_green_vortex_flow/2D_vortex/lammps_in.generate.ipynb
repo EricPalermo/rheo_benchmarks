{
 "cells": [
  {
   "cell_type": "code",
   "execution_count": 1,
   "id": "868b15ad",
   "metadata": {},
   "outputs": [],
   "source": [
    "import shutil\n",
    "import os"
   ]
  },
  {
   "cell_type": "code",
   "execution_count": 2,
   "id": "f53a4e29",
   "metadata": {},
   "outputs": [
    {
     "data": {
      "text/plain": [
       "'/qscratch/etpaler/rheo_benchmark_repository/benchmark_1__taylor_green_vortex_flow/2D_vortex'"
      ]
     },
     "execution_count": 2,
     "metadata": {},
     "output_type": "execute_result"
    }
   ],
   "source": [
    "pwd = os.getcwd()\n",
    "#pwd += \"/rheo_bench/channel/\"\n",
    "pwd"
   ]
  },
  {
   "cell_type": "markdown",
   "id": "f7d00083-9c74-4878-bacb-02da27f7cc8a",
   "metadata": {},
   "source": [
    "# Generate LAMMPS Input Scripts"
   ]
  },
  {
   "cell_type": "code",
   "execution_count": 3,
   "id": "f4fae2f7",
   "metadata": {},
   "outputs": [],
   "source": [
    "#parameter grids for varying sf\n",
    "var_shift_grid = {\"\":\"0\",\"shift\":\"1\"}\n",
    "# var_shift_grid = {\"shift\":\"1\"}\n",
    "\n",
    "var_kernel_grid = {\"CRK0\":\"0\",\"CRK1\":\"1\",\"CRK2\":\"2\",\"Quintic\":\"5\"}\n",
    "var_sf_grid = {\"0.5\":\"2\",\"0.25\":\"4\",\"0.2\":\"5\",\"0.1\":\"10\",\"0.05\":\"20\"}\n",
    "var_hd_grid = {\"3.5\":\"3p5\"}\n",
    "var_eta_grid = {\"0.05\":\"p05\"}\n",
    "var_u0_grid = {\"0.05\":\"p05\"}"
   ]
  },
  {
   "cell_type": "code",
   "execution_count": 4,
   "id": "16e15db1",
   "metadata": {},
   "outputs": [],
   "source": [
    "#Generate lammps files\n",
    "\n",
    "out_filepath = \"data\"\n",
    "\n",
    "filenames = []\n",
    "for shift in var_shift_grid:\n",
    "    for kernel in var_kernel_grid:\n",
    "        for sf in var_sf_grid:\n",
    "            for hd in var_hd_grid:\n",
    "                for eta in var_eta_grid:\n",
    "                    for u0 in var_u0_grid:\n",
    "                        filename = var_shift_grid[shift]+\"_\"+var_kernel_grid[kernel]+\"_\"+var_sf_grid[sf]+\"_\"+var_hd_grid[hd]+\"_\"+var_eta_grid[eta]+\"_\"+var_u0_grid[u0]\n",
    "                        file = shutil.copyfile(\"lammps_in.template\",pwd+\"/in.\"+filename+\".lmp\")\n",
    "                        file_in = open(file,\"rt\")\n",
    "                        file_text = file_in.read()\n",
    "\n",
    "                        #Replace variables\n",
    "                        file_text = file_text.replace(\"var_shift\",shift)\n",
    "                        file_text = file_text.replace(\"var_kernel\",kernel)\n",
    "                        file_text = file_text.replace(\"var_sf\",sf)\n",
    "                        file_text = file_text.replace(\"var_hd\",hd)\n",
    "                        file_text = file_text.replace(\"var_eta\",eta)\n",
    "                        file_text = file_text.replace(\"var_u0\",u0)\n",
    "\n",
    "                        file_text = file_text.replace(\"var_out_filepath\",out_filepath)\n",
    "                        file_text = file_text.replace(\"var_filename\",filename)\n",
    "\n",
    "                        file_out = open(file,\"wt\")\n",
    "                        file_out.write(file_text)\n",
    "                        \n",
    "                        filenames.append(filename)\n",
    "                        file_out.close()"
   ]
  },
  {
   "cell_type": "code",
   "execution_count": null,
   "id": "410b1f96-472b-434f-8c80-7f893886c5e1",
   "metadata": {},
   "outputs": [
    {
     "name": "stdout",
     "output_type": "stream",
     "text": [
      "['1_0_2_3p5_p05_p05', '1_0_4_3p5_p05_p05', '1_0_5_3p5_p05_p05', '1_0_10_3p5_p05_p05', '1_0_20_3p5_p05_p05', '1_1_2_3p5_p05_p05', '1_1_4_3p5_p05_p05', '1_1_5_3p5_p05_p05', '1_1_10_3p5_p05_p05', '1_1_20_3p5_p05_p05', '1_2_2_3p5_p05_p05', '1_2_4_3p5_p05_p05', '1_2_5_3p5_p05_p05', '1_2_10_3p5_p05_p05', '1_2_20_3p5_p05_p05', '1_5_2_3p5_p05_p05', '1_5_4_3p5_p05_p05', '1_5_5_3p5_p05_p05', '1_5_10_3p5_p05_p05', '1_5_20_3p5_p05_p05']\n"
     ]
    }
   ],
   "source": [
    "print(filenames)"
   ]
  },
  {
   "cell_type": "markdown",
   "id": "15df3ebb-98ef-4755-9c94-65ceb06bd277",
   "metadata": {},
   "source": [
    "# Write the Solo Jobscript"
   ]
  },
  {
   "cell_type": "code",
   "execution_count": null,
   "id": "a90579a8-b9a5-4cda-b253-9e6dfc0a4639",
   "metadata": {},
   "outputs": [],
   "source": [
    "account=\"FY150028\"\n",
    "job_name=\"TG_vortex\"\n",
    "time=\"48:00:00\"\n",
    "partition=\"batch\"\n",
    "nodes=\"4\"\n",
    "ntasks_per_node=\"16\"\n",
    "run_command = \"mpirun -np 16 /ascldap/users/etpaler/dev/rlammps_king_laplacian/build/lmp -in in.\""
   ]
  },
  {
   "cell_type": "code",
   "execution_count": null,
   "id": "aa0d1579-6edf-4358-894c-44fef3ce9de4",
   "metadata": {},
   "outputs": [],
   "source": [
    "with open(\"submit.jobscript\",\"w\") as jobscript:\n",
    "        #---shebang---#\n",
    "        jobscript.write(\"#!/bin/bash\\n\\n\")\n",
    "\n",
    "        #---slurm commands---#\n",
    "        jobscript.write(\"#SBATCH --account={}\\n\".format(account))\n",
    "        jobscript.write(\"#SBATCH --job-name={}\\n\".format(job_name))\n",
    "        jobscript.write(\"#SBATCH --time={}\\n\".format(time))\n",
    "        jobscript.write(\"#SBATCH --partition={}\\n\".format(partition))\n",
    "        jobscript.write(\"#SBATCH --nodes={}\\n\".format(nodes))\n",
    "        jobscript.write(\"#SBATCH --ntasks-per-node={}\\n\\n\".format(ntasks_per_node))\n",
    "        \n",
    "         #---unix commands---#\n",
    "        jobscript.write(\"module load cmake/3.20.3 intel/18.0.0.128 openmpi-intel/4.1 mkl/18.0.0.128\\n\\n\")\n",
    "        \n",
    "        for filename in filenames:\n",
    "            jobscript.write(run_command+filename+\".lmp \\n\")\n",
    "            \n",
    "        jobscript.write(\"\\n\")"
   ]
  },
  {
   "cell_type": "markdown",
   "id": "3b36c221-24eb-405e-a2c1-d69a8d13afb8",
   "metadata": {},
   "source": [
    "# Write the WSL Jobscript"
   ]
  },
  {
   "cell_type": "code",
   "execution_count": null,
   "id": "fb905275",
   "metadata": {},
   "outputs": [],
   "source": [
    "run_command = \"mpirun -np 4 ~/dev/rlammps_wall_debug/build/lmp -in lammps_in__\"\n",
    "\n",
    "with open(\"jobscript\",\"w\") as jobscript:\n",
    "        #---shebang---#\n",
    "        jobscript.write(\"#!/bin/bash\\n\\n\")\n",
    "\n",
    "        for filename in filenames:\n",
    "            jobscript.write(run_command+filename+\"\\n\")\n",
    "            \n",
    "        jobscript.write(\"\\n\")"
   ]
  }
 ],
 "metadata": {
  "kernelspec": {
   "display_name": "Python 3.9.7 ('base')",
   "language": "python",
   "name": "python3"
  },
  "language_info": {
   "codemirror_mode": {
    "name": "ipython",
    "version": 3
   },
   "file_extension": ".py",
   "mimetype": "text/x-python",
   "name": "python",
   "nbconvert_exporter": "python",
   "pygments_lexer": "ipython3",
   "version": "3.9.7"
  },
  "vscode": {
   "interpreter": {
    "hash": "8d6eab00dc7ce96ae89711357d2e2e3d1fbdc2cefdd2da93f2b7a6dbe9768048"
   }
  }
 },
 "nbformat": 4,
 "nbformat_minor": 5
}
