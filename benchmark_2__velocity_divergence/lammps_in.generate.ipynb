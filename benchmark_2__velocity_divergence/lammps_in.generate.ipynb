{
 "cells": [
  {
   "cell_type": "code",
   "execution_count": 1,
   "id": "868b15ad",
   "metadata": {},
   "outputs": [],
   "source": [
    "import shutil\n",
    "import os"
   ]
  },
  {
   "cell_type": "code",
   "execution_count": 2,
   "id": "f53a4e29",
   "metadata": {},
   "outputs": [
    {
     "data": {
      "text/plain": [
       "'/home/epalermo/test/rheo_bench/grad_v/2D'"
      ]
     },
     "execution_count": 2,
     "metadata": {},
     "output_type": "execute_result"
    }
   ],
   "source": [
    "pwd = os.getcwd()\n",
    "#pwd += \"/rheo_bench/channel/\"\n",
    "pwd"
   ]
  },
  {
   "cell_type": "code",
   "execution_count": 3,
   "id": "caf79c08",
   "metadata": {},
   "outputs": [],
   "source": [
    "#parameter grids\n",
    "var_sf_grid = {\"0.05\":\"20\",\"0.1\":\"10\",\"0.2\":\"5\",\"0.25\":\"4\",\"0.5\":\"2\"}\n",
    "var_kernel_grid = {\"CRK0\":\"0\",\"CRK1\":\"1\",\"CRK2\":\"2\",\"Quintic\":\"5\"}\n",
    "#var_hd_grid = {\"1.5\":\"1p5\",\"2.0\":\"2p0\",\"2.5\":\"2p5\",\"3.5\":\"3p5\",\"4.5\":\"4p5\"}\n",
    "var_hd_grid = {\"3.5\":\"3p5\"}\n",
    "\n"
   ]
  },
  {
   "cell_type": "markdown",
   "id": "f7d00083-9c74-4878-bacb-02da27f7cc8a",
   "metadata": {},
   "source": [
    "# Generate LAMMPS Input Scripts"
   ]
  },
  {
   "cell_type": "code",
   "execution_count": 4,
   "id": "ab842139",
   "metadata": {},
   "outputs": [],
   "source": [
    "#Generate lammps files\n",
    "filenames = []\n",
    "for sf in var_sf_grid:\n",
    "    for kernel in var_kernel_grid:\n",
    "        for hd in var_hd_grid:\n",
    "            run_code = \"1_\"+var_kernel_grid[kernel]+\"_\"+var_sf_grid[sf]+\"_\"+var_hd_grid[hd] #shifting on (1) is constant\n",
    "            filename = \"lammps_in__\"+run_code\n",
    "            file = shutil.copyfile(\"lammps_in.template\",pwd+\"/\"+filename+\".lmp\")\n",
    "            file_in = open(file,\"rt\")\n",
    "            file_text = file_in.read()\n",
    "\n",
    "            #Replace variables\n",
    "            file_text = file_text.replace(\"var_sf\",sf)\n",
    "            file_text = file_text.replace(\"var_hd\",hd)\n",
    "            file_text = file_text.replace(\"var_kernel\",kernel)\n",
    "            file_text = file_text.replace(\"var_filename\",run_code)\n",
    "\n",
    "            file_out = open(file,\"wt\")\n",
    "            file_out.write(file_text)\n",
    "            file_out.close()\n",
    "            \n",
    "            filenames.append(filename+\".lmp\")"
   ]
  },
  {
   "cell_type": "code",
   "execution_count": 5,
   "id": "410b1f96-472b-434f-8c80-7f893886c5e1",
   "metadata": {},
   "outputs": [
    {
     "data": {
      "text/plain": [
       "['lammps_in__1_0_20_3p5.lmp',\n",
       " 'lammps_in__1_1_20_3p5.lmp',\n",
       " 'lammps_in__1_2_20_3p5.lmp',\n",
       " 'lammps_in__1_5_20_3p5.lmp',\n",
       " 'lammps_in__1_0_10_3p5.lmp',\n",
       " 'lammps_in__1_1_10_3p5.lmp',\n",
       " 'lammps_in__1_2_10_3p5.lmp',\n",
       " 'lammps_in__1_5_10_3p5.lmp',\n",
       " 'lammps_in__1_0_5_3p5.lmp',\n",
       " 'lammps_in__1_1_5_3p5.lmp',\n",
       " 'lammps_in__1_2_5_3p5.lmp',\n",
       " 'lammps_in__1_5_5_3p5.lmp',\n",
       " 'lammps_in__1_0_4_3p5.lmp',\n",
       " 'lammps_in__1_1_4_3p5.lmp',\n",
       " 'lammps_in__1_2_4_3p5.lmp',\n",
       " 'lammps_in__1_5_4_3p5.lmp',\n",
       " 'lammps_in__1_0_2_3p5.lmp',\n",
       " 'lammps_in__1_1_2_3p5.lmp',\n",
       " 'lammps_in__1_2_2_3p5.lmp',\n",
       " 'lammps_in__1_5_2_3p5.lmp']"
      ]
     },
     "execution_count": 5,
     "metadata": {},
     "output_type": "execute_result"
    }
   ],
   "source": [
    "filenames"
   ]
  },
  {
   "cell_type": "markdown",
   "id": "15df3ebb-98ef-4755-9c94-65ceb06bd277",
   "metadata": {},
   "source": [
    "# Write the Jobscript"
   ]
  },
  {
   "cell_type": "markdown",
   "id": "c4085fa3",
   "metadata": {},
   "source": [
    "### Solo"
   ]
  },
  {
   "cell_type": "code",
   "execution_count": 10,
   "id": "a90579a8-b9a5-4cda-b253-9e6dfc0a4639",
   "metadata": {},
   "outputs": [],
   "source": [
    "account=\"FY150028\"\n",
    "job_name=\"TestChannel\"\n",
    "time=\"24:0:0\"\n",
    "partition=\"batch\"\n",
    "nodes=\"1\"\n",
    "ntasks_per_node=\"16\"\n",
    "run_command = \"mpirun -np 16 /ascldap/users/etpaler/dev/lammps_rheo/lammps/build/lmp -in \""
   ]
  },
  {
   "cell_type": "code",
   "execution_count": 11,
   "id": "aa0d1579-6edf-4358-894c-44fef3ce9de4",
   "metadata": {},
   "outputs": [],
   "source": [
    "with open(\"jobscript\",\"w\") as jobscript:\n",
    "        #---shebang---#\n",
    "        jobscript.write(\"#!/bin/bash\\n\\n\")\n",
    "\n",
    "        #---slurm commands---#\n",
    "        jobscript.write(\"#SBATCH --account={}\\n\".format(account))\n",
    "        jobscript.write(\"#SBATCH --job-name={}\\n\".format(job_name))\n",
    "        jobscript.write(\"#SBATCH --time={}\\n\".format(time))\n",
    "        jobscript.write(\"#SBATCH --partition={}\\n\".format(partition))\n",
    "        jobscript.write(\"#SBATCH --nodes={}\\n\".format(nodes))\n",
    "        jobscript.write(\"#SBATCH --ntasks-per-node={}\\n\\n\".format(ntasks_per_node))\n",
    "        \n",
    "        jobscript.write(\"module load cmake/3.20.3 intel/18.0.0.128 openmpi-intel/4.1 mkl/18.0.0.128\\n\\n\")\n",
    "        \n",
    "        for filename in filenames:\n",
    "            jobscript.write(run_command+filename+\"\\n\")\n",
    "            \n",
    "        jobscript.write(\"\\n\")"
   ]
  },
  {
   "cell_type": "markdown",
   "id": "cd9483f2",
   "metadata": {},
   "source": [
    "### WSL"
   ]
  },
  {
   "cell_type": "code",
   "execution_count": 6,
   "id": "00a8959b-96eb-4c41-a860-52d44b071495",
   "metadata": {},
   "outputs": [],
   "source": [
    "run_command = \"mpirun -np 4 ~/dev/rlammps_inlet/build/lmp -in \"\n",
    "\n",
    "with open(\"jobscript\",\"w\") as jobscript:\n",
    "        jobscript.write(\"#!/bin/bash\\n\\n\")\n",
    "\n",
    "        for filename in filenames:\n",
    "            jobscript.write(run_command+filename+\"\\n\")\n",
    "            \n",
    "        jobscript.write(\"\\n\")"
   ]
  },
  {
   "cell_type": "code",
   "execution_count": null,
   "id": "26d90384",
   "metadata": {},
   "outputs": [],
   "source": []
  }
 ],
 "metadata": {
  "kernelspec": {
   "display_name": "Python 3 (ipykernel)",
   "language": "python",
   "name": "python3"
  },
  "language_info": {
   "codemirror_mode": {
    "name": "ipython",
    "version": 3
   },
   "file_extension": ".py",
   "mimetype": "text/x-python",
   "name": "python",
   "nbconvert_exporter": "python",
   "pygments_lexer": "ipython3",
   "version": "3.9.7"
  }
 },
 "nbformat": 4,
 "nbformat_minor": 5
}
